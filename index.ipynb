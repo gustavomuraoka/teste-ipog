{
  "nbformat": 4,
  "nbformat_minor": 0,
  "metadata": {
    "colab": {
      "provenance": []
    },
    "kernelspec": {
      "name": "python3",
      "display_name": "Python 3"
    },
    "language_info": {
      "name": "python"
    }
  },
  "cells": [
    {
      "cell_type": "markdown",
      "source": [
        "João Martins – Analista de Dados\n",
        "Introdução\n",
        "\n",
        "João Martins é um analista de dados apaixonado por transformar números em conhecimento estratégico. Com experiência em diversas áreas de negócios, ele utiliza estatística, programação e visualização para apoiar decisões e gerar valor para as empresas.\n",
        "\n",
        "Formação Acadêmica\n",
        "\n",
        "Graduação em Estatística – Universidade Federal de Minas Gerais (UFMG)\n",
        "\n",
        "Pós-graduação em Ciência de Dados e Big Data – Fundação Getulio Vargas (FGV)\n",
        "\n",
        "Experiência Profissional\n",
        "Analista de Dados Pleno – TechInsights (2021 – Atual)\n",
        "\n",
        "Criação de dashboards interativos no Power BI e Tableau para monitorar indicadores de performance.\n",
        "\n",
        "Desenvolvimento de modelos preditivos em Python e R para prever demanda de clientes.\n",
        "\n",
        "Otimização de processos de ETL em SQL, reduzindo o tempo de processamento em 40%.\n",
        "\n",
        "Analista Júnior – DataCorp (2019 – 2021)\n",
        "\n",
        "Extração e tratamento de grandes volumes de dados utilizando SQL e Spark.\n",
        "\n",
        "Apoio em projetos de machine learning voltados para segmentação de clientes.\n",
        "\n",
        "Automatização de relatórios diários, reduzindo esforço manual da equipe.\n",
        "\n",
        "Habilidades Técnicas\n",
        "\n",
        "Linguagens: Python, R, SQL\n",
        "\n",
        "Ferramentas: Power BI, Tableau, Excel avançado\n",
        "\n",
        "Big Data: Spark, Hadoop\n",
        "\n",
        "Modelagem: Regressão, classificação, séries temporais\n",
        "\n",
        "Projetos de Destaque\n",
        "Modelo de Previsão de Vendas\n",
        "\n",
        "Criou um modelo preditivo que ajudou uma rede de varejo a estimar a demanda semanal por produto, reduzindo rupturas em 25%.\n",
        "\n",
        "Segmentação de Clientes\n",
        "\n",
        "Implementou um modelo de clustering para identificar perfis de consumo e apoiar campanhas de marketing direcionadas, aumentando em 18% a taxa de conversão.\n",
        "\n",
        "Perfil Pessoal\n",
        "\n",
        "João é curioso por natureza, gosta de resolver problemas complexos e acredita que dados bem trabalhados podem mudar a forma como as empresas enxergam seu negócio. Além do ambiente profissional, é entusiasta de maratonas de programação e mentor voluntário em projetos de educação em tecnologia."
      ],
      "metadata": {
        "id": "VhmBCC1JhART"
      }
    },
    {
      "cell_type": "code",
      "source": [
        "2 + 2\n"
      ],
      "metadata": {
        "colab": {
          "base_uri": "https://localhost:8080/"
        },
        "id": "AWeG9reHhyxK",
        "outputId": "bf725b31-2ad1-4bcf-d860-93eb5a704cf8"
      },
      "execution_count": 1,
      "outputs": [
        {
          "output_type": "execute_result",
          "data": {
            "text/plain": [
              "4"
            ]
          },
          "metadata": {},
          "execution_count": 1
        }
      ]
    }
  ]
}